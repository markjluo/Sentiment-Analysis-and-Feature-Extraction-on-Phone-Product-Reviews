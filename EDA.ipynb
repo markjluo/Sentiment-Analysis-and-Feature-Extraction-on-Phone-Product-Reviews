{
 "cells": [
  {
   "cell_type": "code",
   "execution_count": 1,
   "metadata": {
    "colab": {},
    "colab_type": "code",
    "id": "XJrlQ8Psoagw"
   },
   "outputs": [],
   "source": [
    "import nltk.data\n",
    "import pandas as pd\n",
    "from bs4 import BeautifulSoup\n",
    "import re\n",
    "from nltk.corpus import stopwords\n",
    "import numpy as np\n",
    "from sklearn.ensemble import RandomForestClassifier\n",
    "from sklearn.model_selection import train_test_split\n",
    "from sklearn.model_selection import cross_val_score\n",
    "from sklearn.metrics import f1_score\n",
    "\n",
    "import warnings\n",
    "warnings.filterwarnings(\"ignore\")\n",
    "\n",
    "\n",
    "from IPython.display import display\n",
    "import timeit\n",
    "from collections import defaultdict\n",
    "import math\n",
    "import numpy as np\n",
    "import pandas as pd\n",
    "import random\n",
    "import seaborn as sns\n",
    "from matplotlib import pyplot as plt\n",
    "import matplotlib.dates as md\n",
    "%matplotlib inline\n",
    "import operator \n",
    "\n",
    "from sklearn.model_selection import train_test_split\n",
    "from sklearn.cluster import KMeans\n",
    "\n",
    "from bs4 import BeautifulSoup\n",
    "import re\n",
    "import nltk\n",
    "from nltk import word_tokenize\n",
    "from nltk.corpus import sentiwordnet as swn\n",
    "from nltk.corpus import wordnet as wn\n",
    "from nltk.corpus import stopwords\n",
    "from nltk.stem.porter import PorterStemmer\n",
    "from nltk import sentiment\n",
    "#from autocorrect import spell # For spelling correction\n",
    "from urllib import request"
   ]
  },
  {
   "cell_type": "code",
   "execution_count": 2,
   "metadata": {
    "colab": {},
    "colab_type": "code",
    "id": "tOfan1VXoERu"
   },
   "outputs": [],
   "source": [
    "tokenizer = nltk.data.load('tokenizers/punkt/english.pickle')"
   ]
  },
  {
   "cell_type": "markdown",
   "metadata": {
    "colab_type": "text",
    "id": "awf_c13mR_3A"
   },
   "source": [
    "## Download the data from dropbox, it might take a few minutes to run..."
   ]
  },
  {
   "cell_type": "code",
   "execution_count": 3,
   "metadata": {},
   "outputs": [],
   "source": [
    "import pandas as pd\n",
    "import requests\n",
    "from io import StringIO\n",
    "\n",
    "url = requests.get('https://www.dropbox.com/s/nhw9v19xij8lrci/Amazon_Unlocked_Mobile.csv?dl=1')\n",
    "csv_raw = StringIO(url.text)\n",
    "df = pd.read_csv(csv_raw)"
   ]
  },
  {
   "cell_type": "code",
   "execution_count": 4,
   "metadata": {
    "colab": {},
    "colab_type": "code",
    "id": "F22uJmPYoFuZ"
   },
   "outputs": [
    {
     "data": {
      "text/html": [
       "<div>\n",
       "<style scoped>\n",
       "    .dataframe tbody tr th:only-of-type {\n",
       "        vertical-align: middle;\n",
       "    }\n",
       "\n",
       "    .dataframe tbody tr th {\n",
       "        vertical-align: top;\n",
       "    }\n",
       "\n",
       "    .dataframe thead th {\n",
       "        text-align: right;\n",
       "    }\n",
       "</style>\n",
       "<table border=\"1\" class=\"dataframe\">\n",
       "  <thead>\n",
       "    <tr style=\"text-align: right;\">\n",
       "      <th></th>\n",
       "      <th>Product</th>\n",
       "      <th>Brand</th>\n",
       "      <th>Price</th>\n",
       "      <th>Rating</th>\n",
       "      <th>Review</th>\n",
       "      <th>Votes</th>\n",
       "      <th>id_col</th>\n",
       "      <th>Label</th>\n",
       "    </tr>\n",
       "  </thead>\n",
       "  <tbody>\n",
       "    <tr>\n",
       "      <th>0</th>\n",
       "      <td>\"CLEAR CLEAN ESN\" Sprint EPIC 4G Galaxy SPH-D7...</td>\n",
       "      <td>Samsung</td>\n",
       "      <td>199.99</td>\n",
       "      <td>5</td>\n",
       "      <td>I feel so LUCKY to have found this used (phone...</td>\n",
       "      <td>1.0</td>\n",
       "      <td>0</td>\n",
       "      <td>1</td>\n",
       "    </tr>\n",
       "    <tr>\n",
       "      <th>1</th>\n",
       "      <td>\"CLEAR CLEAN ESN\" Sprint EPIC 4G Galaxy SPH-D7...</td>\n",
       "      <td>Samsung</td>\n",
       "      <td>199.99</td>\n",
       "      <td>4</td>\n",
       "      <td>nice phone, nice up grade from my pantach revu...</td>\n",
       "      <td>0.0</td>\n",
       "      <td>1</td>\n",
       "      <td>1</td>\n",
       "    </tr>\n",
       "    <tr>\n",
       "      <th>2</th>\n",
       "      <td>\"CLEAR CLEAN ESN\" Sprint EPIC 4G Galaxy SPH-D7...</td>\n",
       "      <td>Samsung</td>\n",
       "      <td>199.99</td>\n",
       "      <td>5</td>\n",
       "      <td>Very pleased</td>\n",
       "      <td>0.0</td>\n",
       "      <td>2</td>\n",
       "      <td>1</td>\n",
       "    </tr>\n",
       "    <tr>\n",
       "      <th>3</th>\n",
       "      <td>\"CLEAR CLEAN ESN\" Sprint EPIC 4G Galaxy SPH-D7...</td>\n",
       "      <td>Samsung</td>\n",
       "      <td>199.99</td>\n",
       "      <td>4</td>\n",
       "      <td>It works good but it goes slow sometimes but i...</td>\n",
       "      <td>0.0</td>\n",
       "      <td>3</td>\n",
       "      <td>1</td>\n",
       "    </tr>\n",
       "    <tr>\n",
       "      <th>4</th>\n",
       "      <td>\"CLEAR CLEAN ESN\" Sprint EPIC 4G Galaxy SPH-D7...</td>\n",
       "      <td>Samsung</td>\n",
       "      <td>199.99</td>\n",
       "      <td>4</td>\n",
       "      <td>Great phone to replace my lost phone. The only...</td>\n",
       "      <td>0.0</td>\n",
       "      <td>4</td>\n",
       "      <td>1</td>\n",
       "    </tr>\n",
       "  </tbody>\n",
       "</table>\n",
       "</div>"
      ],
      "text/plain": [
       "                                             Product    Brand   Price  Rating  \\\n",
       "0  \"CLEAR CLEAN ESN\" Sprint EPIC 4G Galaxy SPH-D7...  Samsung  199.99       5   \n",
       "1  \"CLEAR CLEAN ESN\" Sprint EPIC 4G Galaxy SPH-D7...  Samsung  199.99       4   \n",
       "2  \"CLEAR CLEAN ESN\" Sprint EPIC 4G Galaxy SPH-D7...  Samsung  199.99       5   \n",
       "3  \"CLEAR CLEAN ESN\" Sprint EPIC 4G Galaxy SPH-D7...  Samsung  199.99       4   \n",
       "4  \"CLEAR CLEAN ESN\" Sprint EPIC 4G Galaxy SPH-D7...  Samsung  199.99       4   \n",
       "\n",
       "                                              Review  Votes  id_col  Label  \n",
       "0  I feel so LUCKY to have found this used (phone...    1.0       0      1  \n",
       "1  nice phone, nice up grade from my pantach revu...    0.0       1      1  \n",
       "2                                       Very pleased    0.0       2      1  \n",
       "3  It works good but it goes slow sometimes but i...    0.0       3      1  \n",
       "4  Great phone to replace my lost phone. The only...    0.0       4      1  "
      ]
     },
     "execution_count": 4,
     "metadata": {},
     "output_type": "execute_result"
    }
   ],
   "source": [
    "# df = pd.read_csv('reference/Amazon_Unlocked_Mobile.csv', delimiter = \",\")\n",
    "n = len(df)\n",
    "df.columns = ['Product', 'Brand', 'Price', 'Rating', 'Review', 'Votes']\n",
    "df['id_col'] = range(0, n)\n",
    "df['Label'] = 0\n",
    "df.loc[df['Rating'] > 3, 'Label'] = 1\n",
    "df.loc[df['Rating'] < 3, 'Label'] = -1\n",
    "\n",
    "\n",
    "df.head()"
   ]
  },
  {
   "cell_type": "code",
   "execution_count": 5,
   "metadata": {},
   "outputs": [
    {
     "data": {
      "text/plain": [
       "(413840, 8)"
      ]
     },
     "execution_count": 5,
     "metadata": {},
     "output_type": "execute_result"
    }
   ],
   "source": [
    "df.shape"
   ]
  },
  {
   "cell_type": "code",
   "execution_count": 6,
   "metadata": {},
   "outputs": [
    {
     "data": {
      "text/plain": [
       "65171"
      ]
     },
     "execution_count": 6,
     "metadata": {},
     "output_type": "execute_result"
    }
   ],
   "source": [
    "df[\"Brand\"].isnull().sum()"
   ]
  },
  {
   "cell_type": "code",
   "execution_count": 7,
   "metadata": {},
   "outputs": [
    {
     "data": {
      "text/plain": [
       "(413778, 8)"
      ]
     },
     "execution_count": 7,
     "metadata": {},
     "output_type": "execute_result"
    }
   ],
   "source": [
    "df.dropna(subset=['Review'], how='all', inplace=True)\n",
    "df.shape"
   ]
  },
  {
   "cell_type": "code",
   "execution_count": 7,
   "metadata": {
    "colab": {},
    "colab_type": "code",
    "id": "P-Ss_Khqpyso"
   },
   "outputs": [],
   "source": [
    "def clean_review(review, remove_stopwords = False):\n",
    "    \"\"\"Helper function to clean the reviews i.e. to convert a document to a sequence of words.\n",
    "     Please note that we're not removing stopwords since word2vec relies on the broader context\n",
    "     of the sentence in order to produce high-quality word vectors.\n",
    "\n",
    "     Arg: review: review string (str)\n",
    "          remove_stopwards: If true remove stopwords else not. (boolean)\n",
    "     Returns: cleaned_review : Cleaned review (list)\n",
    "\n",
    "     You should carry out the following steps.\n",
    "     1. Remove HTML Tags.\n",
    "     2. Remove non-letter characters.\n",
    "     3. Convert to lower case.\n",
    "    \"\"\"\n",
    "    \n",
    "    review_html = BeautifulSoup(review).get_text() \n",
    "    letter = re.compile('[^a-zA-Z]')\n",
    "    review_letter = re.sub(letter,' ',review_html)\n",
    "    review_lower = review_letter.lower().split()\n",
    "    cleaned_review = []\n",
    "    if remove_stopwords:\n",
    "        stop_words = set(stopwords.words('english'))\n",
    "        for w in review_lower:\n",
    "#             if w not in stop_words:\n",
    "#                 cleaned_review.append(w)\n",
    "            if w not in stop_words:\n",
    "                cleaned_review.append(get_synonym(w))\n",
    "#                 = [w for w in review_lower if w not in stop_words]\n",
    "    else:\n",
    "         for w in review_lower:\n",
    "#             if w not in ok_words:\n",
    "#                 b = TextBlob(w)\n",
    "#                 word = str(b.correct())\n",
    "#                 cleaned_review.append(word) \n",
    "            cleaned_review.append(w)\n",
    "#         cleaned_review = review_lower\n",
    "    \n",
    "\n",
    "    #####################\n",
    "    \n",
    "    return cleaned_review\n",
    "\n",
    "def get_synonym(word):\n",
    "    synonyms = [[\"camera\",\"video\", \"display\"], \n",
    "                [\"phone\", \"cellphone\", \"smartphone\", \"phones\"],\n",
    "               [\"setting\", \"settings\"],\n",
    "               [\"feature\", \"features\"],\n",
    "               [\"pictures\", \"photos\", \"picture\", \"photo\"],\n",
    "               [\"speakers\", \"speaker\"]]\n",
    "    synonyms_parent = [\"camera\", \"phone\", \"settings\", \"features\", \"photos\", \"speakers\"]\n",
    "    \n",
    "    for i in range(len(synonyms)):\n",
    "        if word in synonyms[i]:\n",
    "            return synonyms_parent[i]\n",
    "    \n",
    "    return word"
   ]
  },
  {
   "cell_type": "code",
   "execution_count": 10,
   "metadata": {},
   "outputs": [
    {
     "data": {
      "text/plain": [
       "['feel',\n",
       " 'lucky',\n",
       " 'found',\n",
       " 'used',\n",
       " 'phone',\n",
       " 'us',\n",
       " 'used',\n",
       " 'hard',\n",
       " 'phone',\n",
       " 'line',\n",
       " 'someone',\n",
       " 'upgraded',\n",
       " 'sold',\n",
       " 'one',\n",
       " 'son',\n",
       " 'liked',\n",
       " 'old',\n",
       " 'one',\n",
       " 'finally',\n",
       " 'fell',\n",
       " 'apart',\n",
       " 'years',\n",
       " 'want',\n",
       " 'upgrade',\n",
       " 'thank',\n",
       " 'seller',\n",
       " 'really',\n",
       " 'appreciate',\n",
       " 'honesty',\n",
       " 'said',\n",
       " 'used',\n",
       " 'phone',\n",
       " 'recommend',\n",
       " 'seller',\n",
       " 'highly',\n",
       " 'would']"
      ]
     },
     "execution_count": 10,
     "metadata": {},
     "output_type": "execute_result"
    }
   ],
   "source": [
    "clean_review(df['Review'][0], remove_stopwords=True)"
   ]
  },
  {
   "cell_type": "code",
   "execution_count": 8,
   "metadata": {
    "colab": {},
    "colab_type": "code",
    "id": "yb15ZgwB4RNN"
   },
   "outputs": [],
   "source": [
    "def review_to_sentences(review, tokenizer):\n",
    "    \"\"\"Helper function to split a review into parsed sentences. Returns a \n",
    "     list of sentences, where each sentence is a list of words.\n",
    "\n",
    "     Arg: review: review string (str)\n",
    "          tokenizer: punkt tokenizer\n",
    "     Returns:\n",
    "          review_sentences: List of list of tokens.\n",
    "                            e.g. [[\"word2vec\", \"was\", \"introduced\", \"by\", \"google\" ],[\"it\",\"leverages\",\"distributed\",\"token\",\"representations\"]]\n",
    "\n",
    "     You should carry out the following steps.\n",
    "     1. Use the tokenizer to split the paragraph into sentences.\n",
    "     2. Clean the sentence to return a list of words for each sentence using the helper funtion above.\n",
    "     3. Return a list of tokenized sentences.\n",
    "    \"\"\"\n",
    "    # 1. Use the NLTK tokenizer to split the paragraph into sentences\n",
    "    raw_sentences = tokenizer.tokenize(review.strip())\n",
    "    \n",
    "    # 2. Loop over each sentence\n",
    "    sentences = []\n",
    "    for raw_sentence in raw_sentences:\n",
    "        # If a sentence is empty, skip it\n",
    "        if len(raw_sentence) > 0:\n",
    "            # Otherwise, call review_to_wordlist to get a list of words\n",
    "            sentences.append(clean_review(raw_sentence))\n",
    "    \n",
    "    # Return the list of sentences (each sentence is a list of words,\n",
    "    # so this returns a list of lists\n",
    "    return sentences\n",
    "    \n"
   ]
  },
  {
   "cell_type": "code",
   "execution_count": 9,
   "metadata": {
    "colab": {},
    "colab_type": "code",
    "id": "Xi_1vFZ7-sd3",
    "scrolled": true
   },
   "outputs": [
    {
     "name": "stdout",
     "output_type": "stream",
     "text": [
      "Parsing sentences from training set\n",
      "progress:  0.0 %\n",
      "progress:  2.416754878219722 %\n",
      "progress:  4.833509756439444 %\n",
      "progress:  7.250264634659165 %\n",
      "progress:  9.667019512878888 %\n",
      "progress:  12.08377439109861 %\n",
      "progress:  14.50052926931833 %\n",
      "progress:  16.91728414753805 %\n",
      "progress:  19.334039025757775 %\n",
      "progress:  21.750793903977495 %\n",
      "progress:  24.16754878219722 %\n",
      "progress:  26.584303660416936 %\n",
      "progress:  29.00105853863666 %\n",
      "progress:  31.417813416856383 %\n",
      "progress:  33.8345682950761 %\n",
      "progress:  36.25132317329582 %\n",
      "progress:  38.66807805151555 %\n",
      "progress:  41.08483292973527 %\n",
      "progress:  43.50158780795499 %\n",
      "progress:  45.91834268617471 %\n",
      "progress:  48.33509756439444 %\n",
      "progress:  50.75185244261415 %\n",
      "progress:  53.16860732083387 %\n",
      "progress:  55.5853621990536 %\n",
      "progress:  58.00211707727332 %\n",
      "progress:  60.418871955493046 %\n",
      "progress:  62.835626833712766 %\n",
      "progress:  65.25238171193249 %\n",
      "progress:  67.6691365901522 %\n",
      "progress:  70.08589146837193 %\n",
      "progress:  72.50264634659165 %\n",
      "progress:  74.91940122481138 %\n",
      "progress:  77.3361561030311 %\n",
      "progress:  79.7529109812508 %\n",
      "progress:  82.16966585947054 %\n",
      "progress:  84.58642073769026 %\n",
      "progress:  87.00317561590998 %\n",
      "progress:  89.4199304941297 %\n",
      "progress:  91.83668537234942 %\n",
      "progress:  94.25344025056914 %\n",
      "progress:  96.67019512878888 %\n",
      "progress:  99.0869500070086 %\n",
      "minutes:  12.265584419\n"
     ]
    }
   ],
   "source": [
    "# Use the above helper functions to convert the reviews in train[\"review\"] and in unlabeled_train[\"review\"] to a list of list format as mentioned above.\n",
    "# For example if your train data contains 2 reviews with 3 sentences in each and the unlabeled_train has 4 reviews with 1 sentence in each\n",
    "# The resultant list should have 10 lists of tokenized sentences.\n",
    "sentences = []  # Initialize an empty list of sentences\n",
    "from collections import defaultdict \n",
    "sentence_id=defaultdict()\n",
    "print(\"Parsing sentences from training set\")\n",
    "### Add your code here.\n",
    "tic=timeit.default_timer()\n",
    "i = 1\n",
    "for i in df['id_col']:\n",
    "    for review in df[df['id_col']==i]['Review']:\n",
    "        sentence=review_to_sentences(review, tokenizer)\n",
    "        sentences += sentence\n",
    "        sentence_id[i] = sentence\n",
    "    if i%10000 == 0:\n",
    "        print('progress: ', (i/len(df[\"Review\"]))*100, \"%\")\n",
    "    i = i + 1\n",
    "\n",
    "    toc=timeit.default_timer()\n",
    "\n",
    "print(\"minutes: \", (toc - tic)/60)\n"
   ]
  },
  {
   "cell_type": "code",
   "execution_count": 15,
   "metadata": {},
   "outputs": [
    {
     "name": "stdout",
     "output_type": "stream",
     "text": [
      "['i', 'feel', 'so', 'lucky', 'to', 'have', 'found', 'this', 'used', 'phone', 'to', 'us', 'not', 'used', 'hard', 'at', 'all', 'phone', 'on', 'line', 'from', 'someone', 'who', 'upgraded', 'and', 'sold', 'this', 'one']\n"
     ]
    }
   ],
   "source": [
    "print(sentences[0])"
   ]
  },
  {
   "cell_type": "code",
   "execution_count": 16,
   "metadata": {},
   "outputs": [
    {
     "data": {
      "text/plain": [
       "103"
      ]
     },
     "execution_count": 16,
     "metadata": {},
     "output_type": "execute_result"
    }
   ],
   "source": [
    "import itertools\n",
    "len(list(itertools.chain(*sentence_id[0][0])))\n"
   ]
  },
  {
   "cell_type": "markdown",
   "metadata": {},
   "source": [
    "## 0. Raw Data Statistics"
   ]
  },
  {
   "cell_type": "code",
   "execution_count": 10,
   "metadata": {},
   "outputs": [],
   "source": [
    "import collections\n",
    "import itertools\n",
    "\n",
    "#words_in_review = [rev for rev in sentences]\n",
    "wordlist=list(itertools.chain(*sentences))\n",
    "counts=collections.Counter(wordlist)"
   ]
  },
  {
   "cell_type": "code",
   "execution_count": 18,
   "metadata": {},
   "outputs": [
    {
     "data": {
      "text/plain": [
       "60695"
      ]
     },
     "execution_count": 18,
     "metadata": {},
     "output_type": "execute_result"
    }
   ],
   "source": [
    "# number of vocabulary\n",
    "len(counts)"
   ]
  },
  {
   "cell_type": "code",
   "execution_count": 19,
   "metadata": {},
   "outputs": [
    {
     "data": {
      "text/plain": [
       "13.921884739592652"
      ]
     },
     "execution_count": 19,
     "metadata": {},
     "output_type": "execute_result"
    }
   ],
   "source": [
    "# number of word per sentence\n",
    "len(wordlist)/len(sentences)"
   ]
  },
  {
   "cell_type": "code",
   "execution_count": 20,
   "metadata": {},
   "outputs": [
    {
     "data": {
      "text/plain": [
       "2.9582602264982674"
      ]
     },
     "execution_count": 20,
     "metadata": {},
     "output_type": "execute_result"
    }
   ],
   "source": [
    "# number of sentence per reviews\n",
    "len(sentences)/len(df)"
   ]
  },
  {
   "cell_type": "code",
   "execution_count": 21,
   "metadata": {},
   "outputs": [
    {
     "data": {
      "text/html": [
       "<div>\n",
       "<style scoped>\n",
       "    .dataframe tbody tr th:only-of-type {\n",
       "        vertical-align: middle;\n",
       "    }\n",
       "\n",
       "    .dataframe tbody tr th {\n",
       "        vertical-align: top;\n",
       "    }\n",
       "\n",
       "    .dataframe thead th {\n",
       "        text-align: right;\n",
       "    }\n",
       "</style>\n",
       "<table border=\"1\" class=\"dataframe\">\n",
       "  <thead>\n",
       "    <tr style=\"text-align: right;\">\n",
       "      <th></th>\n",
       "      <th>Price</th>\n",
       "      <th>Rating</th>\n",
       "      <th>Votes</th>\n",
       "      <th>id_col</th>\n",
       "      <th>Label</th>\n",
       "    </tr>\n",
       "  </thead>\n",
       "  <tbody>\n",
       "    <tr>\n",
       "      <th>count</th>\n",
       "      <td>407848.000000</td>\n",
       "      <td>413778.000000</td>\n",
       "      <td>401482.000000</td>\n",
       "      <td>413778.000000</td>\n",
       "      <td>413778.000000</td>\n",
       "    </tr>\n",
       "    <tr>\n",
       "      <th>mean</th>\n",
       "      <td>226.867148</td>\n",
       "      <td>3.819609</td>\n",
       "      <td>1.506155</td>\n",
       "      <td>206919.955887</td>\n",
       "      <td>0.454091</td>\n",
       "    </tr>\n",
       "    <tr>\n",
       "      <th>std</th>\n",
       "      <td>273.019444</td>\n",
       "      <td>1.548212</td>\n",
       "      <td>9.162444</td>\n",
       "      <td>119463.506787</td>\n",
       "      <td>0.846782</td>\n",
       "    </tr>\n",
       "    <tr>\n",
       "      <th>min</th>\n",
       "      <td>1.730000</td>\n",
       "      <td>1.000000</td>\n",
       "      <td>0.000000</td>\n",
       "      <td>0.000000</td>\n",
       "      <td>-1.000000</td>\n",
       "    </tr>\n",
       "    <tr>\n",
       "      <th>25%</th>\n",
       "      <td>79.990000</td>\n",
       "      <td>3.000000</td>\n",
       "      <td>0.000000</td>\n",
       "      <td>103465.250000</td>\n",
       "      <td>0.000000</td>\n",
       "    </tr>\n",
       "    <tr>\n",
       "      <th>50%</th>\n",
       "      <td>144.710000</td>\n",
       "      <td>5.000000</td>\n",
       "      <td>0.000000</td>\n",
       "      <td>206914.500000</td>\n",
       "      <td>1.000000</td>\n",
       "    </tr>\n",
       "    <tr>\n",
       "      <th>75%</th>\n",
       "      <td>269.990000</td>\n",
       "      <td>5.000000</td>\n",
       "      <td>1.000000</td>\n",
       "      <td>310372.750000</td>\n",
       "      <td>1.000000</td>\n",
       "    </tr>\n",
       "    <tr>\n",
       "      <th>max</th>\n",
       "      <td>2598.000000</td>\n",
       "      <td>5.000000</td>\n",
       "      <td>645.000000</td>\n",
       "      <td>413839.000000</td>\n",
       "      <td>1.000000</td>\n",
       "    </tr>\n",
       "  </tbody>\n",
       "</table>\n",
       "</div>"
      ],
      "text/plain": [
       "               Price         Rating          Votes         id_col  \\\n",
       "count  407848.000000  413778.000000  401482.000000  413778.000000   \n",
       "mean      226.867148       3.819609       1.506155  206919.955887   \n",
       "std       273.019444       1.548212       9.162444  119463.506787   \n",
       "min         1.730000       1.000000       0.000000       0.000000   \n",
       "25%        79.990000       3.000000       0.000000  103465.250000   \n",
       "50%       144.710000       5.000000       0.000000  206914.500000   \n",
       "75%       269.990000       5.000000       1.000000  310372.750000   \n",
       "max      2598.000000       5.000000     645.000000  413839.000000   \n",
       "\n",
       "               Label  \n",
       "count  413778.000000  \n",
       "mean        0.454091  \n",
       "std         0.846782  \n",
       "min        -1.000000  \n",
       "25%         0.000000  \n",
       "50%         1.000000  \n",
       "75%         1.000000  \n",
       "max         1.000000  "
      ]
     },
     "execution_count": 21,
     "metadata": {},
     "output_type": "execute_result"
    }
   ],
   "source": [
    "df.describe()"
   ]
  },
  {
   "cell_type": "code",
   "execution_count": 22,
   "metadata": {},
   "outputs": [
    {
     "data": {
      "text/plain": [
       "1224063"
      ]
     },
     "execution_count": 22,
     "metadata": {},
     "output_type": "execute_result"
    }
   ],
   "source": [
    "len(sentences)"
   ]
  },
  {
   "cell_type": "code",
   "execution_count": 23,
   "metadata": {},
   "outputs": [],
   "source": [
    "s_v=[]\n",
    "\n",
    "for i in sentence_id.keys():\n",
    "    s_v.append(len(sentence_id[i][0]))\n",
    "\n",
    "    \n",
    "    "
   ]
  },
  {
   "cell_type": "code",
   "execution_count": 24,
   "metadata": {},
   "outputs": [],
   "source": [
    "df['sentence per review']=s_v"
   ]
  },
  {
   "cell_type": "code",
   "execution_count": 25,
   "metadata": {},
   "outputs": [
    {
     "data": {
      "text/plain": [
       "(0, 742, 13.921884739592652, 10.0, 14.448212892155757)"
      ]
     },
     "execution_count": 25,
     "metadata": {},
     "output_type": "execute_result"
    }
   ],
   "source": [
    "\n",
    "w_t=[len(i) for i in sentences]\n",
    "min(w_t), max(w_t), np.mean(w_t), np.median(w_t),np.std(w_t)"
   ]
  },
  {
   "cell_type": "code",
   "execution_count": 26,
   "metadata": {},
   "outputs": [
    {
     "data": {
      "text/plain": [
       "385"
      ]
     },
     "execution_count": 26,
     "metadata": {},
     "output_type": "execute_result"
    }
   ],
   "source": [
    "len(df['Brand'].unique())"
   ]
  },
  {
   "cell_type": "code",
   "execution_count": 35,
   "metadata": {},
   "outputs": [
    {
     "name": "stdout",
     "output_type": "stream",
     "text": [
      "Collecting statsmodels\n",
      "  Downloading statsmodels-0.11.1-cp37-none-win_amd64.whl (8.2 MB)\n",
      "Requirement already satisfied: numpy>=1.14 in d:\\python3.7\\lib\\site-packages (from statsmodels) (1.18.1)\n",
      "Collecting patsy>=0.5\n",
      "  Downloading patsy-0.5.1-py2.py3-none-any.whl (231 kB)\n",
      "Requirement already satisfied: pandas>=0.21 in d:\\python3.7\\lib\\site-packages (from statsmodels) (0.25.0)\n",
      "Requirement already satisfied: scipy>=1.0 in d:\\python3.7\\lib\\site-packages (from statsmodels) (1.4.1)\n",
      "Requirement already satisfied: six in d:\\python3.7\\lib\\site-packages (from patsy>=0.5->statsmodels) (1.11.0)\n",
      "Requirement already satisfied: python-dateutil>=2.6.1 in d:\\python3.7\\lib\\site-packages (from pandas>=0.21->statsmodels) (2.8.0)\n",
      "Requirement already satisfied: pytz>=2017.2 in d:\\python3.7\\lib\\site-packages (from pandas>=0.21->statsmodels) (2019.2)\n",
      "Installing collected packages: patsy, statsmodels\n",
      "Successfully installed patsy-0.5.1 statsmodels-0.11.1\n"
     ]
    }
   ],
   "source": [
    "import sys  \n",
    "!{sys.executable} -m pip install statsmodels "
   ]
  },
  {
   "cell_type": "code",
   "execution_count": 183,
   "metadata": {},
   "outputs": [
    {
     "data": {
      "text/plain": [
       "<matplotlib.legend.Legend at 0x19d4c6b90>"
      ]
     },
     "execution_count": 183,
     "metadata": {},
     "output_type": "execute_result"
    },
    {
     "data": {
      "image/png": "[encoded data removed]",
      "text/plain": [
       "<Figure size 936x576 with 1 Axes>"
      ]
     },
     "metadata": {
      "needs_background": "light"
     },
     "output_type": "display_data"
    }
   ],
   "source": [
    "brand_count=df['Brand'].value_counts()\n",
    "brand_count=brand_count[:10,]\n",
    "plt.figure(figsize=(13,8))\n",
    "top10=df[df['Brand'].isin(brand_count.index)]\n",
    "\n",
    "\n",
    "barWidth=0.9\n",
    "\n",
    "top10label=top10.groupby(['Brand','Label'])['Product'].size().reset_index(name='prod_count')\n",
    "a = top10label.groupby('Brand')['prod_count'].transform('sum')\n",
    "top10label['prod_count'] = top10label['prod_count'].div(a)\n",
    "bars1=list(top10label[top10label['Label']==-1]['prod_count'])\n",
    "bars2=list(top10label[top10label['Label']==0]['prod_count'])\n",
    "bars3=list(top10label[top10label['Label']==1]['prod_count'])\n",
    "bars4 = bars1+bars2+bars3\n",
    "\n",
    "\n",
    "r1 = np.linspace(0,30,num=10,retstep=3)[0]\n",
    "r2 = np.linspace(1,31,num=10,retstep=3)[0]\n",
    "r3 = np.linspace(2,32,num=10,retstep=3)[0]\n",
    "r4 = list(r1) + list(r2) + list(r3)\n",
    "\n",
    "plt.bar(r1, bars1, width = barWidth, color = '#F08080', label='negative')\n",
    "plt.bar(r2, bars2, width = barWidth, color = '#4682B4', label='netural')\n",
    "plt.bar(r3, bars3, width = barWidth, color = \"#8FBC8F\", label='positive')\n",
    "\n",
    "label=top10label['prod_count'].round(2).tolist()\n",
    "plt.xlabel('group', fontweight='bold')\n",
    "plt.xticks([(r +barWidth)*3.25-2 for r in range(10)], sorted(brand_count.reset_index()['index'].tolist()))\n",
    "#for i in range(len(r4)):\n",
    "    #plt.text(x = r4[i]-0.4 , y = bars4[i]+0.01, s = label[i], size = 7)\n",
    "plt.subplots_adjust(bottom= 0.2, top = 0.98)\n",
    "\n",
    "plt.legend(loc=2)\n",
    "\n",
    "\n",
    "\n",
    "# import dexplot as dxp\n",
    "# ax=dxp.aggplot(agg='Brand', data=top10, hue='Label', normalize='Brand')\n",
    "\n",
    "\n",
    "\n",
    "#t10 = top10.groupby(['Brand', 'Label'])['Brand'].count().unstack('Label').fillna(0)\n",
    "#t10.plot(kind='bar', stacked=True,cmap=\"Set2\")"
   ]
  },
  {
   "cell_type": "code",
   "execution_count": 155,
   "metadata": {},
   "outputs": [
    {
     "data": {
      "text/plain": [
       "1     0.050517\n",
       "4     0.090219\n",
       "7     0.076754\n",
       "10    0.150400\n",
       "13    0.088337\n",
       "16    0.076751\n",
       "19    0.083253\n",
       "22    0.090449\n",
       "25    0.056216\n",
       "28    0.066745\n",
       "Name: prod_count, dtype: float64"
      ]
     },
     "execution_count": 155,
     "metadata": {},
     "output_type": "execute_result"
    }
   ],
   "source": [
    "\n",
    "\n"
   ]
  },
  {
   "cell_type": "code",
   "execution_count": null,
   "metadata": {},
   "outputs": [],
   "source": [
    "def plot_one_company(company, n=20):\n",
    "    df_one_company = df_small.loc[df_small['BrandName'].isin([company])]\n",
    "    pivot = pd.pivot_table(df_one_company,\n",
    "            values = ['Rating', 'Votes'],\n",
    "            index =  ['Product'],\n",
    "                       columns= [],\n",
    "                       aggfunc=[np.sum, np.mean, np.count_nonzero, np.std], \n",
    "                       margins=True, fill_value=0).sort_values(by=('count_nonzero', 'Rating'), ascending=False).fillna('')\n",
    "    top_10_prods = pivot.reindex().head(n=20)\n",
    "    top_10_prods = top_10_prods.reset_index()\n",
    "    tt_prods = top_10_prods['Product']\n",
    "    tt_prods2 = tt_prods.reset_index()\n",
    "    top_10_prods_list = list(set(tt_prods2['Product']))\n"
   ]
  },
  {
   "cell_type": "code",
   "execution_count": 155,
   "metadata": {
    "scrolled": true
   },
   "outputs": [
    {
     "data": {
      "text/plain": [
       "<seaborn.axisgrid.PairGrid at 0x1c7793d10>"
      ]
     },
     "execution_count": 155,
     "metadata": {},
     "output_type": "execute_result"
    },
    {
     "data": {
      "image/png": "[encoded data removed]",
      "text/plain": [
       "<Figure size 864x864 with 12 Axes>"
      ]
     },
     "metadata": {
      "needs_background": "light"
     },
     "output_type": "display_data"
    }
   ],
   "source": [
    "df_small = df[['sentence per review','Price',  \n",
    "               'Label']]\n",
    "sns.pairplot(df_small, size=4)"
   ]
  },
  {
   "cell_type": "code",
   "execution_count": 38,
   "metadata": {},
   "outputs": [
    {
     "data": {
      "text/plain": [
       "-0.2838848690991236"
      ]
     },
     "execution_count": 38,
     "metadata": {},
     "output_type": "execute_result"
    }
   ],
   "source": [
    "#correlation\n",
    "from scipy.stats import spearmanr\n",
    "#np.cov(df['Label'],df['Price'])\n",
    "corr,_=spearmanr(df['Label'],df['sentence per review'], nan_policy='omit')\n",
    "corr"
   ]
  },
  {
   "cell_type": "code",
   "execution_count": 39,
   "metadata": {},
   "outputs": [
    {
     "data": {
      "text/plain": [
       "0.09572076847472662"
      ]
     },
     "execution_count": 39,
     "metadata": {},
     "output_type": "execute_result"
    }
   ],
   "source": [
    "\n",
    "corr,_=spearmanr(df['Label'],df['Price'], nan_policy='omit')\n",
    "corr"
   ]
  },
  {
   "cell_type": "code",
   "execution_count": null,
   "metadata": {},
   "outputs": [],
   "source": []
  },
  {
   "cell_type": "code",
   "execution_count": 40,
   "metadata": {},
   "outputs": [
    {
     "data": {
      "text/plain": [
       "F_onewayResult(statistic=6890.849716473914, pvalue=0.0)"
      ]
     },
     "execution_count": 40,
     "metadata": {},
     "output_type": "execute_result"
    }
   ],
   "source": [
    "import scipy.stats as stats\n",
    "stats.f_oneway(df[df['Label'] == 1]['sentence per review'], \n",
    "             df[df['Label'] == 0]['sentence per review'],\n",
    "             df[df['Label'] == -1]['sentence per review'])"
   ]
  },
  {
   "cell_type": "code",
   "execution_count": 41,
   "metadata": {},
   "outputs": [
    {
     "data": {
      "text/plain": [
       "F_onewayResult(statistic=939.3638595335217, pvalue=0.0)"
      ]
     },
     "execution_count": 41,
     "metadata": {},
     "output_type": "execute_result"
    }
   ],
   "source": [
    "df2=df.copy()\n",
    "df2=df2.dropna()\n",
    "\n",
    "stats.f_oneway(df2[df2['Label'] == 1]['Price'], \n",
    "             df2[df2['Label'] == 0]['Price'],\n",
    "             df2[df2['Label'] == -1]['Price'])"
   ]
  },
  {
   "cell_type": "code",
   "execution_count": 43,
   "metadata": {},
   "outputs": [
    {
     "name": "stdout",
     "output_type": "stream",
     "text": [
      "Multiple Comparison of Means - Tukey HSD, FWER=0.05 \n",
      "====================================================\n",
      "group1 group2 meandiff p-adj  lower    upper  reject\n",
      "----------------------------------------------------\n",
      "    -1      0  -13.212 0.001 -17.9499 -8.4741   True\n",
      "    -1      1  41.9171 0.001   39.171 44.6633   True\n",
      "     0      1  55.1291 0.001  50.8044 59.4539   True\n",
      "----------------------------------------------------\n"
     ]
    }
   ],
   "source": [
    "from statsmodels.stats.multicomp import pairwise_tukeyhsd\n",
    "from statsmodels.stats.multicomp import MultiComparison\n",
    "\n",
    "mc = MultiComparison( df2['Price'],df2['Label'])\n",
    "mc_results = mc.tukeyhsd()\n",
    "print(mc_results)"
   ]
  },
  {
   "cell_type": "code",
   "execution_count": 44,
   "metadata": {},
   "outputs": [
    {
     "name": "stdout",
     "output_type": "stream",
     "text": [
      "Multiple Comparison of Means - Tukey HSD, FWER=0.05 \n",
      "====================================================\n",
      "group1 group2 meandiff p-adj   lower   upper  reject\n",
      "----------------------------------------------------\n",
      "    -1      0  -0.0966 0.6174 -0.3427  0.1495  False\n",
      "    -1      1  -5.8605  0.001 -6.0031 -5.7178   True\n",
      "     0      1  -5.7639  0.001 -5.9886 -5.5392   True\n",
      "----------------------------------------------------\n"
     ]
    }
   ],
   "source": [
    "mc = MultiComparison( df2['sentence per review'],df2['Label'])\n",
    "mc_results = mc.tukeyhsd()\n",
    "print(mc_results)"
   ]
  },
  {
   "cell_type": "code",
   "execution_count": 46,
   "metadata": {},
   "outputs": [
    {
     "data": {
      "text/plain": [
       "Text(0.5, 1.0, 'Proportion of Each Label Class')"
      ]
     },
     "execution_count": 46,
     "metadata": {},
     "output_type": "execute_result"
    },
    {
     "data": {
      "image/png": "[encoded data removed]",
      "text/plain": [
       "<Figure size 432x288 with 1 Axes>"
      ]
     },
     "metadata": {
      "needs_background": "light"
     },
     "output_type": "display_data"
    }
   ],
   "source": [
    "\n",
    "prop_df = (df['Label']\n",
    "           .value_counts(normalize=True)\n",
    "           .rename('percentage')\n",
    "           .reset_index())\n",
    "prop_df=prop_df.rename(columns={'index':'Label'})\n",
    "ax=prop_df['percentage'].plot(kind='bar')\n",
    "ax.set_xlabel('Label')\n",
    "ax.set_xticklabels(['Positive','Negative','Neutral'],rotation=360)\n",
    "ax.set_title('Proportion of Each Label Class')"
   ]
  },
  {
   "cell_type": "code",
   "execution_count": 47,
   "metadata": {},
   "outputs": [
    {
     "data": {
      "text/plain": [
       "Text(0.5, 1.0, 'Proportion of Five Ratings')"
      ]
     },
     "execution_count": 47,
     "metadata": {},
     "output_type": "execute_result"
    },
    {
     "data": {
      "image/png": "[encoded data removed]",
      "text/plain": [
       "<Figure size 432x288 with 1 Axes>"
      ]
     },
     "metadata": {
      "needs_background": "light"
     },
     "output_type": "display_data"
    }
   ],
   "source": [
    "prop_df = (df['Rating']\n",
    "           .value_counts(normalize=True)\n",
    "           .rename('percentage')\n",
    "           .reset_index())\n",
    "prop_df=prop_df.rename(columns={'index':'Rating'})\n",
    "ax=prop_df['percentage'].plot(kind='bar')\n",
    "ax.set_xlabel('Rating')\n",
    "ax.set_xticklabels(prop_df['Rating'],rotation=360)\n",
    "ax.set_title('Proportion of Five Ratings')"
   ]
  },
  {
   "cell_type": "code",
   "execution_count": 65,
   "metadata": {},
   "outputs": [],
   "source": [
    "negrev=[]\n",
    "for i in df[df['Label']==-1].index.tolist():\n",
    "    negrev.append(sentences[i])"
   ]
  },
  {
   "cell_type": "code",
   "execution_count": 164,
   "metadata": {},
   "outputs": [
    {
     "data": {
      "image/png": "[encoded data removed]",
      "text/plain": [
       "<Figure size 576x576 with 1 Axes>"
      ]
     },
     "metadata": {
      "needs_background": "light"
     },
     "output_type": "display_data"
    }
   ],
   "source": [
    "nwordlist=list(itertools.chain(*negrev))\n",
    "ncounts=collections.Counter(nwordlist)\n",
    "ncwl=[]\n",
    "for i in ncounts.most_common(70):\n",
    "    if len(i[0])>3:\n",
    "        ncwl.append(i)\n",
    "ncountsdf= pd.DataFrame(ncwl[:15],\n",
    "                             columns=['words', 'count'])\n",
    "fig, ax = plt.subplots(figsize=(8, 8))\n",
    "\n",
    "countsdf.sort_values(by='count').plot.barh(x='words',y='count',\n",
    "                      ax=ax,)\n",
    "ax.set_title(\"Common Words Found in negative cleansed Reviews\")\n",
    "plt.show()\n",
    "        "
   ]
  },
  {
   "cell_type": "code",
   "execution_count": 167,
   "metadata": {},
   "outputs": [
    {
     "data": {
      "text/plain": [
       "0       phone\n",
       "1        this\n",
       "2        with\n",
       "3        that\n",
       "4       great\n",
       "5        good\n",
       "6        have\n",
       "7        very\n",
       "8      screen\n",
       "9        like\n",
       "10       just\n",
       "11      works\n",
       "12    battery\n",
       "13     iphone\n",
       "14       from\n",
       "Name: words, dtype: object"
      ]
     },
     "execution_count": 167,
     "metadata": {},
     "output_type": "execute_result"
    }
   ],
   "source": [
    "countsdf['words']"
   ]
  },
  {
   "cell_type": "code",
   "execution_count": 169,
   "metadata": {},
   "outputs": [
    {
     "data": {
      "text/html": [
       "<div>\n",
       "<style scoped>\n",
       "    .dataframe tbody tr th:only-of-type {\n",
       "        vertical-align: middle;\n",
       "    }\n",
       "\n",
       "    .dataframe tbody tr th {\n",
       "        vertical-align: top;\n",
       "    }\n",
       "\n",
       "    .dataframe thead th {\n",
       "        text-align: right;\n",
       "    }\n",
       "</style>\n",
       "<table border=\"1\" class=\"dataframe\">\n",
       "  <thead>\n",
       "    <tr style=\"text-align: right;\">\n",
       "      <th></th>\n",
       "      <th>words</th>\n",
       "      <th>count_x</th>\n",
       "      <th>count_y</th>\n",
       "    </tr>\n",
       "  </thead>\n",
       "  <tbody>\n",
       "    <tr>\n",
       "      <th>0</th>\n",
       "      <td>phone</td>\n",
       "      <td>32833</td>\n",
       "      <td>99236</td>\n",
       "    </tr>\n",
       "    <tr>\n",
       "      <th>1</th>\n",
       "      <td>this</td>\n",
       "      <td>18079</td>\n",
       "      <td>52620</td>\n",
       "    </tr>\n",
       "    <tr>\n",
       "      <th>2</th>\n",
       "      <td>with</td>\n",
       "      <td>13138</td>\n",
       "      <td>38260</td>\n",
       "    </tr>\n",
       "    <tr>\n",
       "      <th>3</th>\n",
       "      <td>that</td>\n",
       "      <td>11011</td>\n",
       "      <td>32011</td>\n",
       "    </tr>\n",
       "    <tr>\n",
       "      <th>4</th>\n",
       "      <td>great</td>\n",
       "      <td>8579</td>\n",
       "      <td>25267</td>\n",
       "    </tr>\n",
       "    <tr>\n",
       "      <th>5</th>\n",
       "      <td>good</td>\n",
       "      <td>8407</td>\n",
       "      <td>24732</td>\n",
       "    </tr>\n",
       "    <tr>\n",
       "      <th>6</th>\n",
       "      <td>have</td>\n",
       "      <td>8131</td>\n",
       "      <td>23580</td>\n",
       "    </tr>\n",
       "    <tr>\n",
       "      <th>7</th>\n",
       "      <td>very</td>\n",
       "      <td>7455</td>\n",
       "      <td>22422</td>\n",
       "    </tr>\n",
       "    <tr>\n",
       "      <th>8</th>\n",
       "      <td>like</td>\n",
       "      <td>4608</td>\n",
       "      <td>13543</td>\n",
       "    </tr>\n",
       "    <tr>\n",
       "      <th>9</th>\n",
       "      <td>screen</td>\n",
       "      <td>4606</td>\n",
       "      <td>13764</td>\n",
       "    </tr>\n",
       "    <tr>\n",
       "      <th>10</th>\n",
       "      <td>iphone</td>\n",
       "      <td>4564</td>\n",
       "      <td>11911</td>\n",
       "    </tr>\n",
       "    <tr>\n",
       "      <th>11</th>\n",
       "      <td>just</td>\n",
       "      <td>4352</td>\n",
       "      <td>13106</td>\n",
       "    </tr>\n",
       "    <tr>\n",
       "      <th>12</th>\n",
       "      <td>works</td>\n",
       "      <td>4168</td>\n",
       "      <td>12581</td>\n",
       "    </tr>\n",
       "    <tr>\n",
       "      <th>13</th>\n",
       "      <td>from</td>\n",
       "      <td>4103</td>\n",
       "      <td>11613</td>\n",
       "    </tr>\n",
       "    <tr>\n",
       "      <th>14</th>\n",
       "      <td>battery</td>\n",
       "      <td>3995</td>\n",
       "      <td>11961</td>\n",
       "    </tr>\n",
       "  </tbody>\n",
       "</table>\n",
       "</div>"
      ],
      "text/plain": [
       "      words  count_x  count_y\n",
       "0     phone    32833    99236\n",
       "1      this    18079    52620\n",
       "2      with    13138    38260\n",
       "3      that    11011    32011\n",
       "4     great     8579    25267\n",
       "5      good     8407    24732\n",
       "6      have     8131    23580\n",
       "7      very     7455    22422\n",
       "8      like     4608    13543\n",
       "9    screen     4606    13764\n",
       "10   iphone     4564    11911\n",
       "11     just     4352    13106\n",
       "12    works     4168    12581\n",
       "13     from     4103    11613\n",
       "14  battery     3995    11961"
      ]
     },
     "execution_count": 169,
     "metadata": {},
     "output_type": "execute_result"
    }
   ],
   "source": [
    "ncountsdf\n",
    "ncountsdf.merge(countsdf, left_on='words', right_on='words')\n"
   ]
  },
  {
   "cell_type": "code",
   "execution_count": 69,
   "metadata": {},
   "outputs": [],
   "source": [
    "posrev=[]\n",
    "for i in df[df['Label']==1].index.tolist():\n",
    "    posrev.append(sentences[i])\n",
    "    "
   ]
  },
  {
   "cell_type": "code",
   "execution_count": 168,
   "metadata": {},
   "outputs": [
    {
     "data": {
      "image/png": "[encoded data removed]",
      "text/plain": [
       "<Figure size 576x576 with 1 Axes>"
      ]
     },
     "metadata": {
      "needs_background": "light"
     },
     "output_type": "display_data"
    }
   ],
   "source": [
    "pwordlist=list(itertools.chain(*posrev))\n",
    "pcounts=collections.Counter(pwordlist)\n",
    "pcwl=[]\n",
    "for i in pcounts.most_common(70):\n",
    "    if len(i[0])>3:\n",
    "        pcwl.append(i)\n",
    "countsdf= pd.DataFrame(pcwl[:15],\n",
    "                             columns=['words', 'count'])\n",
    "fig, ax = plt.subplots(figsize=(8, 8))\n",
    "\n",
    "countsdf.sort_values(by='count').plot.barh(x='words',y='count',\n",
    "                      ax=ax,)\n",
    "#clrs = ['grey' if (x in ['phone','screen','good','great','this','with','that','very','have','battery','iphone']) else 'red' for x in values ]\n",
    "ax.set_title(\"Common Words Found in positive cleansed Reviews\")\n",
    "plt.show()\n",
    "        "
   ]
  },
  {
   "cell_type": "code",
   "execution_count": null,
   "metadata": {},
   "outputs": [],
   "source": []
  }
 ],
 "metadata": {
  "colab": {
   "name": "HW2_CSE_6240_Template.ipynb",
   "provenance": []
  },
  "kernelspec": {
   "display_name": "Python 3",
   "language": "python",
   "name": "python3"
  },
  "language_info": {
   "codemirror_mode": {
    "name": "ipython",
    "version": 3
   },
   "file_extension": ".py",
   "mimetype": "text/x-python",
   "name": "python",
   "nbconvert_exporter": "python",
   "pygments_lexer": "ipython3",
   "version": "3.7.4"
  }
 },
 "nbformat": 4,
 "nbformat_minor": 1
}
